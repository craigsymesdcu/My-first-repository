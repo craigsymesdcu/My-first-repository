{
  "cells": [
    {
      "cell_type": "code",
      "execution_count": null,
      "id": "2e1378e3-593b-45b7-bc3a-c7517c057073",
      "metadata": {
        "id": "2e1378e3-593b-45b7-bc3a-c7517c057073",
        "outputId": "eb68c8f4-c77f-43b8-9778-723b7239a01c"
      },
      "outputs": [
        {
          "name": "stdout",
          "output_type": "stream",
          "text": [
            "Bye world\n"
          ]
        }
      ],
      "source": [
        "a = 2\n",
        "b = 1\n",
        "c = 3\n",
        "# nice code\n",
        "if a == c :\n",
        "    print(\"Hello word\")\n",
        "else :\n",
        "    print(\"Bye world\")\n",
        ""
      ]
    }
  ],
  "metadata": {
    "kernelspec": {
      "display_name": "Python 3 (ipykernel)",
      "language": "python",
      "name": "python3"
    },
    "language_info": {
      "codemirror_mode": {
        "name": "ipython",
        "version": 3
      },
      "file_extension": ".py",
      "mimetype": "text/x-python",
      "name": "python",
      "nbconvert_exporter": "python",
      "pygments_lexer": "ipython3",
      "version": "3.11.4"
    },
    "colab": {
      "provenance": []
    }
  },
  "nbformat": 4,
  "nbformat_minor": 5
}